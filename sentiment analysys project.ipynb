{
 "cells": [
  {
   "cell_type": "code",
   "execution_count": 3,
   "id": "6221ac38-56ab-41ae-879e-29d2fae0bf58",
   "metadata": {},
   "outputs": [
    {
     "name": "stderr",
     "output_type": "stream",
     "text": [
      "[nltk_data] Downloading package vader_lexicon to\n",
      "[nltk_data]     C:\\Users\\sinch\\AppData\\Roaming\\nltk_data...\n",
      "[nltk_data]   Package vader_lexicon is already up-to-date!\n"
     ]
    },
    {
     "name": "stdin",
     "output_type": "stream",
     "text": [
      "Enter a tweet:  today i was was so happy .then my friend fell down and broke her leg .tweo dogs were laughing\n"
     ]
    },
    {
     "name": "stdout",
     "output_type": "stream",
     "text": [
      "Tweet sentiment (TextBlob): positive 😊 (Score: 0.32)\n",
      "Tweet sentiment (VADER): 0.85 (Positive: 0.40, Negative: 0.10, Neutral: 0.50)\n",
      "Tweet subjectivity: 0.64\n",
      "Tweet word count: 19\n"
     ]
    }
   ],
   "source": [
    "from textblob import TextBlob\n",
    "import pandas as pd\n",
    "import matplotlib.pyplot as plt\n",
    "from nltk.sentiment.vader import SentimentIntensityAnalyzer\n",
    "import nltk\n",
    "nltk.download('vader_lexicon')\n",
    "\n",
    "def analyze_tweet_sentiment(tweet_text):\n",
    "    \n",
    "    blob = TextBlob(tweet_text)\n",
    "\n",
    "    \n",
    "    sentiment_score = blob.sentiment.polarity\n",
    "\n",
    "    \n",
    "    sia = SentimentIntensityAnalyzer()\n",
    "    vader_sentiment = sia.polarity_scores(tweet_text)\n",
    "\n",
    "    \n",
    "    if sentiment_score > 0.05:\n",
    "        sentiment_class = 'positive'\n",
    "        emoji = '😊'\n",
    "    elif sentiment_score < -0.05:\n",
    "        sentiment_class = 'negative'\n",
    "        emoji = '😠'\n",
    "    else:\n",
    "        sentiment_class = 'neutral'\n",
    "        emoji = '😐'\n",
    "\n",
    "    \n",
    "    print(f'Tweet sentiment (TextBlob): {sentiment_class} {emoji} (Score: {sentiment_score:.2f})')\n",
    "    print(f'Tweet sentiment (VADER): {vader_sentiment[\"compound\"]:.2f} (Positive: {vader_sentiment[\"pos\"]:.2f}, Negative: {vader_sentiment[\"neg\"]:.2f}, Neutral: {vader_sentiment[\"neu\"]:.2f})')\n",
    "\n",
    "   \n",
    "    subjectivity = blob.sentiment.subjectivity\n",
    "    print(f'Tweet subjectivity: {subjectivity:.2f}')\n",
    "\n",
    "  \n",
    "    word_count = len(tweet_text.split())\n",
    "    print(f'Tweet word count: {word_count}')\n",
    "\n",
    "    \n",
    "\n",
    "tweet_text = input(\"Enter a tweet: \")\n",
    "\n",
    "\n",
    "analyze_tweet_sentiment(tweet_text)"
   ]
  },
  {
   "cell_type": "code",
   "execution_count": null,
   "id": "dbbee223-8f7b-4cff-98ef-df581d772b15",
   "metadata": {},
   "outputs": [],
   "source": []
  }
 ],
 "metadata": {
  "kernelspec": {
   "display_name": "Python 3 (ipykernel)",
   "language": "python",
   "name": "python3"
  },
  "language_info": {
   "codemirror_mode": {
    "name": "ipython",
    "version": 3
   },
   "file_extension": ".py",
   "mimetype": "text/x-python",
   "name": "python",
   "nbconvert_exporter": "python",
   "pygments_lexer": "ipython3",
   "version": "3.11.3"
  }
 },
 "nbformat": 4,
 "nbformat_minor": 5
}
